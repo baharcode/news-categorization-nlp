{
 "cells": [
  {
   "cell_type": "code",
   "execution_count": 3,
   "id": "f23cf87e-2d08-48c2-805e-52a6758e1a83",
   "metadata": {},
   "outputs": [
    {
     "name": "stderr",
     "output_type": "stream",
     "text": [
      "2024-09-01 01:58:10,411 - INFO - Starting text preprocessing...\n",
      "2024-09-01 01:58:29,429 - INFO - Text preprocessing completed.\n",
      "2024-09-01 01:58:29,430 - INFO - Selecting column: title_cleaned\n",
      "2024-09-01 01:58:29,431 - INFO - Fitting TitleTfidfTransformer...\n",
      "2024-09-01 01:58:29,501 - INFO - Transforming title text to TF-IDF features...\n",
      "2024-09-01 01:58:29,546 - INFO - Selecting column: body_cleaned\n",
      "2024-09-01 01:58:29,547 - INFO - Fitting BodyTfidfTransformer...\n",
      "2024-09-01 01:58:31,422 - INFO - Transforming body text to TF-IDF features...\n",
      "2024-09-01 01:58:34,213 - INFO - Starting text preprocessing...\n",
      "2024-09-01 01:58:39,003 - INFO - Text preprocessing completed.\n",
      "2024-09-01 01:58:39,005 - INFO - Selecting column: title_cleaned\n",
      "2024-09-01 01:58:39,006 - INFO - Transforming title text to TF-IDF features...\n",
      "2024-09-01 01:58:39,022 - INFO - Selecting column: body_cleaned\n",
      "2024-09-01 01:58:39,023 - INFO - Transforming body text to TF-IDF features...\n"
     ]
    },
    {
     "name": "stdout",
     "output_type": "stream",
     "text": [
      "Model accuracy: 0.84\n"
     ]
    },
    {
     "data": {
      "text/plain": [
       "['models/pipeline.joblib']"
      ]
     },
     "execution_count": 3,
     "metadata": {},
     "output_type": "execute_result"
    }
   ],
   "source": [
    "from utils import TextPreprocessor, ColumnSelector, BodyTfidfTransformer, TitleTfidfTransformer\n",
    "from sklearn.pipeline import Pipeline, FeatureUnion\n",
    "from sklearn.linear_model import RidgeClassifier\n",
    "from sklearn.model_selection import train_test_split\n",
    "from joblib import dump\n",
    "import pandas as pd\n",
    "\n",
    "# Load configuration from YAML file\n",
    "config = utils.load_config('config.yaml')\n",
    "data_path = config['data_path']\n",
    "test_size = config['test_size']\n",
    "random_state = config['random_state']\n",
    "tfidf_params_title = config['tfidf_params_title']\n",
    "tfidf_params_body = config['tfidf_params_body']\n",
    "ridge_classifier_params = config['ridge_classifier_params']\n",
    "body_weight = config['body_weight']\n",
    "\n",
    "# Load data using the path from the config\n",
    "df = pd.read_csv(data_path)\n",
    "\n",
    "# Define your target variable and features\n",
    "X = df[['title', 'body']]\n",
    "y = df['category']\n",
    "\n",
    "# Create a pipeline for processing text data\n",
    "pipeline = Pipeline([\n",
    "    ('preprocessor', utils.TextPreprocessor()),\n",
    "    ('features', FeatureUnion([\n",
    "        ('title_tfidf', Pipeline([\n",
    "            ('selector', utils.ColumnSelector('title_cleaned')),\n",
    "            ('tfidf', utils.TitleTfidfTransformer(tfidf_params=tfidf_params_title))\n",
    "        ])),\n",
    "        ('body_tfidf', Pipeline([\n",
    "            ('selector', utils.ColumnSelector('body_cleaned')),\n",
    "            ('tfidf', utils.BodyTfidfTransformer(weight=body_weight, tfidf_params=tfidf_params_body))\n",
    "        ]))\n",
    "    ])),\n",
    "    ('classifier', RidgeClassifier(**ridge_classifier_params))\n",
    "])\n",
    "\n",
    "# Split the data\n",
    "X_train, X_test, y_train, y_test = train_test_split(X, y, test_size=test_size, random_state=random_state)\n",
    "\n",
    "# Fit the pipeline on the training data\n",
    "pipeline.fit(X_train, y_train)\n",
    "\n",
    "# Evaluate the pipeline on the test data\n",
    "accuracy = pipeline.score(X_test, y_test)\n",
    "print(f\"Model accuracy: {accuracy:.2f}\")\n",
    "\n",
    "# Save the pipeline to a file\n",
    "dump(pipeline, 'models/pipeline.joblib')\n"
   ]
  },
  {
   "cell_type": "code",
   "execution_count": null,
   "id": "7e8f453a-67ec-4f19-93d7-398103cd67f2",
   "metadata": {},
   "outputs": [],
   "source": []
  }
 ],
 "metadata": {
  "kernelspec": {
   "display_name": "Python 3 (ipykernel)",
   "language": "python",
   "name": "python3"
  },
  "language_info": {
   "codemirror_mode": {
    "name": "ipython",
    "version": 3
   },
   "file_extension": ".py",
   "mimetype": "text/x-python",
   "name": "python",
   "nbconvert_exporter": "python",
   "pygments_lexer": "ipython3",
   "version": "3.12.4"
  }
 },
 "nbformat": 4,
 "nbformat_minor": 5
}
